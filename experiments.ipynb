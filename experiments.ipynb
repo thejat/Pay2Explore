{
 "cells": [
  {
   "cell_type": "code",
   "execution_count": 1,
   "metadata": {},
   "outputs": [],
   "source": [
    "%matplotlib inline\n",
    "import matplotlib.pyplot as plt\n",
    "import numpy as np\n",
    "from functools import partial \n",
    "np.random.seed(0)"
   ]
  },
  {
   "cell_type": "code",
   "execution_count": 2,
   "metadata": {},
   "outputs": [],
   "source": [
    "T = 10\n",
    "N = 3\n",
    "d = 4\n",
    "mu_noise_level = 0.5\n",
    "reward_noise_level = 0.1\n",
    "n_mc_runs = 1\n",
    "\n",
    "mu_true = np.random.randn(N,d)\n",
    "def mu_noise(d,mu_noise_level=0.5):\n",
    "    return mu_noise_level*np.random.randn(d)\n",
    "def reward_noise(reward_noise_level=0.1):\n",
    "    return reward_noise_level*np.random.randn()\n",
    "mu_estimated = np.zeros_like(mu_true)"
   ]
  },
  {
   "cell_type": "code",
   "execution_count": 3,
   "metadata": {},
   "outputs": [],
   "source": [
    "def get_choice_myopic(context,mu_x,payments=None):\n",
    "    temp = np.dot(mu_x,context)\n",
    "    if payments is not None:\n",
    "        temp += payments\n",
    "    return temp.argmax()"
   ]
  },
  {
   "cell_type": "code",
   "execution_count": 4,
   "metadata": {},
   "outputs": [],
   "source": [
    "def get_context_v1(d):\n",
    "    return np.random.randn(d)\n",
    "\n",
    "def get_payments_v1(context,contexts,mu_realizations,t,T,N):\n",
    "    return None"
   ]
  },
  {
   "cell_type": "code",
   "execution_count": 5,
   "metadata": {},
   "outputs": [],
   "source": [
    "def interactions(get_context,get_payments):\n",
    "\n",
    "    #Initial N rounds are free\n",
    "    for t in range(N):\n",
    "        mu_estimated[t] = mu_true[t] + mu_noise(d,mu_noise_level)\n",
    "\n",
    "    #variables for logging\n",
    "    pseudoregret_inst = np.zeros(T)\n",
    "    contexts = {}\n",
    "    mu_realizations = {}\n",
    "\n",
    "    #T interactions\n",
    "    for t in range(T):\n",
    "        #agent arrives\n",
    "        context = get_context(d)\n",
    "\n",
    "        #platform decides to pay\n",
    "        payments = get_payments(context,contexts,mu_realizations,t,T,N)\n",
    "\n",
    "        #agent decides arm\n",
    "        choice = get_choice_myopic(context,mu_estimated,payments)\n",
    "\n",
    "        #Platform updates estimates\n",
    "        mu_realized = mu_true[choice] + mu_noise(d,mu_noise_level)\n",
    "        mu_estimated[choice] = (t*mu_estimated[choice] + mu_realized)/(t+1)\n",
    "        reward_realized = np.dot(mu_true[choice],context) + reward_noise()\n",
    "\n",
    "        #Regret computation\n",
    "        opt_choice = get_choice_myopic(context,mu_true,payments)\n",
    "        pseudoregret_inst[t] = np.dot(mu_true[opt_choice],context) - np.dot(mu_true[choice],context)\n",
    "\n",
    "        #History\n",
    "        contexts[t] = context\n",
    "        mu_realizations[t] = {'choice':choice,'mu_realized':mu_realized}\n",
    "\n",
    "    pseudoregret = np.cumsum(pseudoregret_inst)\n",
    "    return pseudoregret"
   ]
  },
  {
   "cell_type": "code",
   "execution_count": 6,
   "metadata": {},
   "outputs": [
    {
     "data": {
      "image/png": "[encoded data removed]",
      "text/plain": [
       "<Figure size 432x288 with 1 Axes>"
      ]
     },
     "metadata": {
      "needs_background": "light"
     },
     "output_type": "display_data"
    }
   ],
   "source": [
    "prs1 = np.zeros((n_mc_runs,T))\n",
    "for mc_run in range(n_mc_runs):\n",
    "    prs1[mc_run] = interactions(get_context=get_context_v1,get_payments = get_payments_v1)\n",
    "\n",
    "plt.plot(np.mean(prs1,axis=0))\n",
    "plt.show()"
   ]
  },
  {
   "cell_type": "code",
   "execution_count": 7,
   "metadata": {},
   "outputs": [],
   "source": [
    "def get_mean_cov():\n",
    "    mean = np.ones(d)\n",
    "    cov0 = 0.1*np.random.randn(d,d)\n",
    "    cov = np.ones((d,d)) + np.dot(cov0,cov0.transpose())\n",
    "    return mean, cov\n",
    "\n",
    "def get_context_v2_full(mean,cov,d):\n",
    "    return np.random.multivariate_normal(mean, cov)\n",
    "\n",
    "c2mean,c2cov = get_mean_cov()\n",
    "get_context_v2 = partial(get_context_v2_full,c2mean,c2cov) \n",
    "\n",
    "def get_payments_v2(context,contexts,mu_realizations,t,T,N):\n",
    "    #count of arm pulls\n",
    "    arm_pulls = np.zeros(N)\n",
    "    for x in mu_realizations:\n",
    "        arm_pulls[x['choice']] += 1\n",
    "    s = arm_pulls.min()\n",
    "    print('state',s)\n",
    "        "
   ]
  },
  {
   "cell_type": "code",
   "execution_count": 8,
   "metadata": {},
   "outputs": [
    {
     "data": {
      "image/png": "[encoded data removed]",
      "text/plain": [
       "<Figure size 432x288 with 1 Axes>"
      ]
     },
     "metadata": {
      "needs_background": "light"
     },
     "output_type": "display_data"
    }
   ],
   "source": [
    "\n",
    "prs2 = np.zeros((n_mc_runs,T))\n",
    "for mc_run in range(n_mc_runs):\n",
    "    prs2[mc_run] = interactions(get_context=get_context_v2,get_payments = get_payments_v2)\n",
    "\n",
    "plt.plot(np.mean(prs2,axis=0))\n",
    "plt.show()"
   ]
  },
  {
   "cell_type": "code",
   "execution_count": null,
   "metadata": {},
   "outputs": [],
   "source": []
  },
  {
   "cell_type": "code",
   "execution_count": null,
   "metadata": {},
   "outputs": [],
   "source": []
  }
 ],
 "metadata": {
  "kernelspec": {
   "display_name": "Python 3",
   "language": "python",
   "name": "python3"
  },
  "language_info": {
   "codemirror_mode": {
    "name": "ipython",
    "version": 3
   },
   "file_extension": ".py",
   "mimetype": "text/x-python",
   "name": "python",
   "nbconvert_exporter": "python",
   "pygments_lexer": "ipython3",
   "version": "3.6.8"
  }
 },
 "nbformat": 4,
 "nbformat_minor": 2
}
